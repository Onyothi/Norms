{
 "cells": [
  {
   "cell_type": "markdown",
   "metadata": {},
   "source": [
    "Import packagaes"
   ]
  },
  {
   "cell_type": "code",
   "execution_count": 1,
   "metadata": {},
   "outputs": [],
   "source": [
    "import numpy as np\n",
    "import pandas as pd\n",
    "#import matplotlib as plt"
   ]
  },
  {
   "cell_type": "markdown",
   "metadata": {},
   "source": [
    "Import csv file"
   ]
  },
  {
   "cell_type": "code",
   "execution_count": 2,
   "metadata": {},
   "outputs": [],
   "source": [
    "filename = 'norms.csv'"
   ]
  },
  {
   "cell_type": "code",
   "execution_count": 3,
   "metadata": {},
   "outputs": [],
   "source": [
    "data = pd.read_csv(filename)"
   ]
  },
  {
   "cell_type": "markdown",
   "metadata": {},
   "source": [
    "What does the data frame look like?"
   ]
  },
  {
   "cell_type": "code",
   "execution_count": 4,
   "metadata": {},
   "outputs": [
    {
     "data": {
      "text/html": [
       "<div>\n",
       "<style scoped>\n",
       "    .dataframe tbody tr th:only-of-type {\n",
       "        vertical-align: middle;\n",
       "    }\n",
       "\n",
       "    .dataframe tbody tr th {\n",
       "        vertical-align: top;\n",
       "    }\n",
       "\n",
       "    .dataframe thead th {\n",
       "        text-align: right;\n",
       "    }\n",
       "</style>\n",
       "<table border=\"1\" class=\"dataframe\">\n",
       "  <thead>\n",
       "    <tr style=\"text-align: right;\">\n",
       "      <th></th>\n",
       "      <th>Timestamp</th>\n",
       "      <th>Age</th>\n",
       "      <th>Gender</th>\n",
       "      <th>Female- Annually, how often do you wear your natural Hair or tribal look?</th>\n",
       "      <th>Please elaborate on your choice of Hairdo</th>\n",
       "      <th>Place of Birth?</th>\n",
       "      <th>Current Demographic Location?</th>\n",
       "      <th>Language mostly spoken?</th>\n",
       "      <th>In a casual setting, among a group who speak the same language as you do, what would be the  language of communication?</th>\n",
       "      <th>Has Social Media or any other platforms (Radio, Television, concerts) helped increase your cultural Knowledge?</th>\n",
       "      <th>...</th>\n",
       "      <th>please study the diagram above and  select the colour that best describes you</th>\n",
       "      <th>Has High School / Tertiary Education increased your cultural knowledge?</th>\n",
       "      <th>Occupation?</th>\n",
       "      <th>Do you think traditional wear is appropriate for the workplace?</th>\n",
       "      <th>How often do you eat (your) traditional food?</th>\n",
       "      <th>Do you feel enough efforts have/are applied towards (preserving) traditional practices in your country?</th>\n",
       "      <th>Do you feel the need to (still) preserve and practice traditional practices in the new age?</th>\n",
       "      <th>In short please elaborate on the answer above?</th>\n",
       "      <th>In short, please elaborate on your answer above</th>\n",
       "      <th>Do you follow Local or International Trends</th>\n",
       "    </tr>\n",
       "  </thead>\n",
       "  <tbody>\n",
       "    <tr>\n",
       "      <th>0</th>\n",
       "      <td>7/9/2016 15:31:10</td>\n",
       "      <td>35-40</td>\n",
       "      <td>Male</td>\n",
       "      <td>Maximum 1 month</td>\n",
       "      <td>my hair breaks if not with extension therefore...</td>\n",
       "      <td>Village / Farm</td>\n",
       "      <td>Regional Town</td>\n",
       "      <td>Ethnic Language(s)</td>\n",
       "      <td>language in common</td>\n",
       "      <td>Yes</td>\n",
       "      <td>...</td>\n",
       "      <td>Purple</td>\n",
       "      <td>yes</td>\n",
       "      <td>Unemployed</td>\n",
       "      <td>Yes</td>\n",
       "      <td>special occasions</td>\n",
       "      <td>yes</td>\n",
       "      <td>Only if they are inline with new changes</td>\n",
       "      <td>if some practices become incompatible with pre...</td>\n",
       "      <td>NaN</td>\n",
       "      <td>NaN</td>\n",
       "    </tr>\n",
       "    <tr>\n",
       "      <th>1</th>\n",
       "      <td>7/9/2016 15:41:09</td>\n",
       "      <td>22-28</td>\n",
       "      <td>Male</td>\n",
       "      <td>Maximum 1 month</td>\n",
       "      <td>Short cut</td>\n",
       "      <td>Village / Farm</td>\n",
       "      <td>City</td>\n",
       "      <td>English</td>\n",
       "      <td>Oshiwamvo</td>\n",
       "      <td>Yes</td>\n",
       "      <td>...</td>\n",
       "      <td>Orange</td>\n",
       "      <td>yes</td>\n",
       "      <td>Unemployed</td>\n",
       "      <td>no</td>\n",
       "      <td>weekly (3-4 a week)</td>\n",
       "      <td>yes</td>\n",
       "      <td>Yes</td>\n",
       "      <td>If don't know where we come from and we are de...</td>\n",
       "      <td>NaN</td>\n",
       "      <td>NaN</td>\n",
       "    </tr>\n",
       "    <tr>\n",
       "      <th>2</th>\n",
       "      <td>7/9/2016 15:47:22</td>\n",
       "      <td>22-28</td>\n",
       "      <td>Female</td>\n",
       "      <td>Maximum 1 month</td>\n",
       "      <td>Natural looks better, however not as easy to k...</td>\n",
       "      <td>City</td>\n",
       "      <td>City</td>\n",
       "      <td>English</td>\n",
       "      <td>English</td>\n",
       "      <td>Yes</td>\n",
       "      <td>...</td>\n",
       "      <td>Orange</td>\n",
       "      <td>yes</td>\n",
       "      <td>Student</td>\n",
       "      <td>no</td>\n",
       "      <td>special occasions</td>\n",
       "      <td>no</td>\n",
       "      <td>Only if they are inline with new changes</td>\n",
       "      <td>NaN</td>\n",
       "      <td>NaN</td>\n",
       "      <td>NaN</td>\n",
       "    </tr>\n",
       "  </tbody>\n",
       "</table>\n",
       "<p>3 rows × 25 columns</p>\n",
       "</div>"
      ],
      "text/plain": [
       "           Timestamp    Age  Gender  \\\n",
       "0  7/9/2016 15:31:10  35-40    Male   \n",
       "1  7/9/2016 15:41:09  22-28    Male   \n",
       "2  7/9/2016 15:47:22  22-28  Female   \n",
       "\n",
       "  Female- Annually, how often do you wear your natural Hair or tribal look?  \\\n",
       "0                                    Maximum 1 month                          \n",
       "1                                    Maximum 1 month                          \n",
       "2                                    Maximum 1 month                          \n",
       "\n",
       "           Please elaborate on your choice of Hairdo Place of Birth?  \\\n",
       "0  my hair breaks if not with extension therefore...  Village / Farm   \n",
       "1                                          Short cut  Village / Farm   \n",
       "2  Natural looks better, however not as easy to k...            City   \n",
       "\n",
       "  Current Demographic Location? Language mostly spoken?  \\\n",
       "0                 Regional Town      Ethnic Language(s)   \n",
       "1                          City                 English   \n",
       "2                          City                 English   \n",
       "\n",
       "   In a casual setting, among a group who speak the same language as you do, what would be the  language of communication?  \\\n",
       "0                                 language in common                                                                         \n",
       "1                                          Oshiwamvo                                                                         \n",
       "2                                            English                                                                         \n",
       "\n",
       "  Has Social Media or any other platforms (Radio, Television, concerts) helped increase your cultural Knowledge?  \\\n",
       "0                                                Yes                                                               \n",
       "1                                                Yes                                                               \n",
       "2                                                Yes                                                               \n",
       "\n",
       "   ...  \\\n",
       "0  ...   \n",
       "1  ...   \n",
       "2  ...   \n",
       "\n",
       "  please study the diagram above and  select the colour that best describes you  \\\n",
       "0                                             Purple                              \n",
       "1                                             Orange                              \n",
       "2                                             Orange                              \n",
       "\n",
       "  Has High School / Tertiary Education increased your cultural knowledge?  \\\n",
       "0                                                yes                        \n",
       "1                                                yes                        \n",
       "2                                                yes                        \n",
       "\n",
       "  Occupation?  \\\n",
       "0  Unemployed   \n",
       "1  Unemployed   \n",
       "2     Student   \n",
       "\n",
       "   Do you think traditional wear is appropriate for the workplace?  \\\n",
       "0                                                Yes                 \n",
       "1                                                 no                 \n",
       "2                                                 no                 \n",
       "\n",
       "  How often do you eat (your) traditional food?  \\\n",
       "0                             special occasions   \n",
       "1                           weekly (3-4 a week)   \n",
       "2                             special occasions   \n",
       "\n",
       "  Do you feel enough efforts have/are applied towards (preserving) traditional practices in your country?  \\\n",
       "0                                                yes                                                        \n",
       "1                                                yes                                                        \n",
       "2                                                 no                                                        \n",
       "\n",
       "  Do you feel the need to (still) preserve and practice traditional practices in the new age?   \\\n",
       "0           Only if they are inline with new changes                                             \n",
       "1                                                Yes                                             \n",
       "2           Only if they are inline with new changes                                             \n",
       "\n",
       "      In short please elaborate on the answer above?  \\\n",
       "0  if some practices become incompatible with pre...   \n",
       "1  If don't know where we come from and we are de...   \n",
       "2                                                NaN   \n",
       "\n",
       "  In short, please elaborate on your answer above  \\\n",
       "0                                             NaN   \n",
       "1                                             NaN   \n",
       "2                                             NaN   \n",
       "\n",
       "  Do you follow Local or International Trends  \n",
       "0                                         NaN  \n",
       "1                                         NaN  \n",
       "2                                         NaN  \n",
       "\n",
       "[3 rows x 25 columns]"
      ]
     },
     "execution_count": 4,
     "metadata": {},
     "output_type": "execute_result"
    }
   ],
   "source": [
    "data.head(3)"
   ]
  },
  {
   "cell_type": "code",
   "execution_count": 5,
   "metadata": {},
   "outputs": [
    {
     "data": {
      "text/plain": [
       "(80, 25)"
      ]
     },
     "execution_count": 5,
     "metadata": {},
     "output_type": "execute_result"
    }
   ],
   "source": [
    "data.shape"
   ]
  },
  {
   "cell_type": "code",
   "execution_count": 6,
   "metadata": {},
   "outputs": [
    {
     "data": {
      "text/plain": [
       "RangeIndex(start=0, stop=80, step=1)"
      ]
     },
     "execution_count": 6,
     "metadata": {},
     "output_type": "execute_result"
    }
   ],
   "source": [
    "data.index"
   ]
  },
  {
   "cell_type": "code",
   "execution_count": 7,
   "metadata": {},
   "outputs": [
    {
     "data": {
      "text/plain": [
       "Index(['Timestamp', 'Age', 'Gender',\n",
       "       'Female- Annually, how often do you wear your natural Hair or tribal look?',\n",
       "       'Please elaborate on your choice of Hairdo', 'Place of Birth?',\n",
       "       'Current Demographic Location?', 'Language mostly spoken?',\n",
       "       ' In a casual setting, among a group who speak the same language as you do, what would be the  language of communication?',\n",
       "       'Has Social Media or any other platforms (Radio, Television, concerts) helped increase your cultural Knowledge?',\n",
       "       'How has your Current Demographic impact your cultural knowledge/ orientation?',\n",
       "       'Please describe your \"daily\" Clothing style?',\n",
       "       'How often do you purchase traditional wear?',\n",
       "       'Do you (often)purchase local clothing brands?',\n",
       "       'How well do you know your Culture?',\n",
       "       'please study the diagram above and  select the colour that best describes you',\n",
       "       'Has High School / Tertiary Education increased your cultural knowledge?',\n",
       "       'Occupation?',\n",
       "       'Do you think traditional wear is appropriate for the workplace?',\n",
       "       'How often do you eat (your) traditional food?',\n",
       "       'Do you feel enough efforts have/are applied towards (preserving) traditional practices in your country?',\n",
       "       'Do you feel the need to (still) preserve and practice traditional practices in the new age? ',\n",
       "       'In short please elaborate on the answer above?',\n",
       "       'In short, please elaborate on your answer above',\n",
       "       'Do you follow Local or International Trends'],\n",
       "      dtype='object')"
      ]
     },
     "execution_count": 7,
     "metadata": {},
     "output_type": "execute_result"
    }
   ],
   "source": [
    "data.columns"
   ]
  },
  {
   "cell_type": "code",
   "execution_count": 8,
   "metadata": {},
   "outputs": [
    {
     "data": {
      "text/plain": [
       "Timestamp                                                                                                                   80\n",
       "Age                                                                                                                         80\n",
       "Gender                                                                                                                      80\n",
       "Female- Annually, how often do you wear your natural Hair or tribal look?                                                   37\n",
       "Please elaborate on your choice of Hairdo                                                                                   30\n",
       "Place of Birth?                                                                                                             80\n",
       "Current Demographic Location?                                                                                               80\n",
       "Language mostly spoken?                                                                                                     80\n",
       " In a casual setting, among a group who speak the same language as you do, what would be the  language of communication?    80\n",
       "Has Social Media or any other platforms (Radio, Television, concerts) helped increase your cultural Knowledge?              80\n",
       "How has your Current Demographic impact your cultural knowledge/ orientation?                                               80\n",
       "Please describe your \"daily\" Clothing style?                                                                                80\n",
       "How often do you purchase traditional wear?                                                                                 80\n",
       "Do you (often)purchase local clothing brands?                                                                                0\n",
       "How well do you know your Culture?                                                                                          80\n",
       "please study the diagram above and  select the colour that best describes you                                               80\n",
       "Has High School / Tertiary Education increased your cultural knowledge?                                                     80\n",
       "Occupation?                                                                                                                 80\n",
       "Do you think traditional wear is appropriate for the workplace?                                                             80\n",
       "How often do you eat (your) traditional food?                                                                               80\n",
       "Do you feel enough efforts have/are applied towards (preserving) traditional practices in your country?                     80\n",
       "Do you feel the need to (still) preserve and practice traditional practices in the new age?                                 80\n",
       "In short please elaborate on the answer above?                                                                              79\n",
       "In short, please elaborate on your answer above                                                                             76\n",
       "Do you follow Local or International Trends                                                                                  0\n",
       "dtype: int64"
      ]
     },
     "execution_count": 8,
     "metadata": {},
     "output_type": "execute_result"
    }
   ],
   "source": [
    "data.count()"
   ]
  },
  {
   "cell_type": "code",
   "execution_count": 9,
   "metadata": {},
   "outputs": [
    {
     "name": "stdout",
     "output_type": "stream",
     "text": [
      "<class 'pandas.core.frame.DataFrame'>\n",
      "RangeIndex: 80 entries, 0 to 79\n",
      "Data columns (total 25 columns):\n",
      "Timestamp                                                                                                                   80 non-null object\n",
      "Age                                                                                                                         80 non-null object\n",
      "Gender                                                                                                                      80 non-null object\n",
      "Female- Annually, how often do you wear your natural Hair or tribal look?                                                   37 non-null object\n",
      "Please elaborate on your choice of Hairdo                                                                                   30 non-null object\n",
      "Place of Birth?                                                                                                             80 non-null object\n",
      "Current Demographic Location?                                                                                               80 non-null object\n",
      "Language mostly spoken?                                                                                                     80 non-null object\n",
      " In a casual setting, among a group who speak the same language as you do, what would be the  language of communication?    80 non-null object\n",
      "Has Social Media or any other platforms (Radio, Television, concerts) helped increase your cultural Knowledge?              80 non-null object\n",
      "How has your Current Demographic impact your cultural knowledge/ orientation?                                               80 non-null object\n",
      "Please describe your \"daily\" Clothing style?                                                                                80 non-null object\n",
      "How often do you purchase traditional wear?                                                                                 80 non-null object\n",
      "Do you (often)purchase local clothing brands?                                                                               0 non-null float64\n",
      "How well do you know your Culture?                                                                                          80 non-null object\n",
      "please study the diagram above and  select the colour that best describes you                                               80 non-null object\n",
      "Has High School / Tertiary Education increased your cultural knowledge?                                                     80 non-null object\n",
      "Occupation?                                                                                                                 80 non-null object\n",
      "Do you think traditional wear is appropriate for the workplace?                                                             80 non-null object\n",
      "How often do you eat (your) traditional food?                                                                               80 non-null object\n",
      "Do you feel enough efforts have/are applied towards (preserving) traditional practices in your country?                     80 non-null object\n",
      "Do you feel the need to (still) preserve and practice traditional practices in the new age?                                 80 non-null object\n",
      "In short please elaborate on the answer above?                                                                              79 non-null object\n",
      "In short, please elaborate on your answer above                                                                             76 non-null object\n",
      "Do you follow Local or International Trends                                                                                 0 non-null float64\n",
      "dtypes: float64(2), object(23)\n",
      "memory usage: 15.7+ KB\n"
     ]
    }
   ],
   "source": [
    "data.info()"
   ]
  },
  {
   "cell_type": "code",
   "execution_count": null,
   "metadata": {},
   "outputs": [],
   "source": []
  },
  {
   "cell_type": "markdown",
   "metadata": {},
   "source": [
    "# Lets work on the columns"
   ]
  },
  {
   "cell_type": "markdown",
   "metadata": {},
   "source": [
    "Rename the columns"
   ]
  },
  {
   "cell_type": "code",
   "execution_count": null,
   "metadata": {},
   "outputs": [],
   "source": [
    "data.columns = ['time', 'age','gender','freq_nat_har','elab_hairdo','pob', 'curr_loc','freq_lang','lang_comm','media_ik','loc_impactIK','style','freq_buy_IKwear','buy_locWear','ik_knwldge','vmeme','edu_ik','occu','ik_wearWrk','freq_ikfood','eff_presIK','pres_ik_now','elab_ik_now','elab_ikwear','trends']\n"
   ]
  },
  {
   "cell_type": "code",
   "execution_count": null,
   "metadata": {},
   "outputs": [],
   "source": [
    "data.columns"
   ]
  },
  {
   "cell_type": "code",
   "execution_count": null,
   "metadata": {},
   "outputs": [],
   "source": [
    "# Total responses\n",
    "data.count()"
   ]
  },
  {
   "cell_type": "code",
   "execution_count": null,
   "metadata": {},
   "outputs": [],
   "source": [
    "# more info\n",
    "data.info()"
   ]
  },
  {
   "cell_type": "markdown",
   "metadata": {},
   "source": [
    "Work on the time column - Convert to pandas datetime"
   ]
  },
  {
   "cell_type": "code",
   "execution_count": null,
   "metadata": {},
   "outputs": [],
   "source": [
    "data.time.head()"
   ]
  },
  {
   "cell_type": "code",
   "execution_count": null,
   "metadata": {},
   "outputs": [],
   "source": [
    "# Convert to pandas datetime\n",
    "\n",
    "data['time'] = pd.to_datetime(data['time'])\n",
    "data.time"
   ]
  },
  {
   "cell_type": "code",
   "execution_count": null,
   "metadata": {},
   "outputs": [],
   "source": [
    "data['time'].unique()"
   ]
  },
  {
   "cell_type": "code",
   "execution_count": null,
   "metadata": {},
   "outputs": [],
   "source": [
    "data['time'].count()"
   ]
  },
  {
   "cell_type": "markdown",
   "metadata": {},
   "source": [
    "What age groups are the respondents?"
   ]
  },
  {
   "cell_type": "code",
   "execution_count": null,
   "metadata": {},
   "outputs": [],
   "source": [
    "print(\"total respondents are:\",data['age'].count())\n",
    "data['age'].count()"
   ]
  },
  {
   "cell_type": "code",
   "execution_count": null,
   "metadata": {},
   "outputs": [],
   "source": [
    "data[['age']].drop_duplicates().reset_index(drop=True)"
   ]
  },
  {
   "cell_type": "code",
   "execution_count": null,
   "metadata": {},
   "outputs": [],
   "source": [
    "data['age'].unique()"
   ]
  },
  {
   "cell_type": "code",
   "execution_count": null,
   "metadata": {},
   "outputs": [],
   "source": [
    "data['age'].value_counts()"
   ]
  },
  {
   "cell_type": "code",
   "execution_count": null,
   "metadata": {},
   "outputs": [],
   "source": [
    "#data[['pob','freq_nat_har']].drop_duplicates().reset_index(drop=True)\n",
    "data.groupby(['pob','age','freq_nat_har']).size().reset_index(-1)"
   ]
  },
  {
   "cell_type": "code",
   "execution_count": null,
   "metadata": {},
   "outputs": [],
   "source": [
    "# Why not working?\n",
    "# data.loc[data.pob.isin([\"Village/Farm\",\"Rural Town\"])].loc[data.age> '29-34'].reset_index(drop=True)"
   ]
  },
  {
   "cell_type": "code",
   "execution_count": null,
   "metadata": {},
   "outputs": [],
   "source": [
    "data.groupby(['age']).size().rename('count').reset_index()"
   ]
  },
  {
   "cell_type": "markdown",
   "metadata": {},
   "source": [
    "How many of the respondents are boys/girls?"
   ]
  },
  {
   "cell_type": "code",
   "execution_count": null,
   "metadata": {},
   "outputs": [],
   "source": [
    "data.groupby(['gender']).size().rename('count').reset_index()"
   ]
  },
  {
   "cell_type": "markdown",
   "metadata": {},
   "source": [
    "What age groups are the respondents are female/male?"
   ]
  },
  {
   "cell_type": "code",
   "execution_count": null,
   "metadata": {},
   "outputs": [],
   "source": [
    "data.groupby(['age', 'gender']).size().rename('count').reset_index(-1)"
   ]
  },
  {
   "cell_type": "markdown",
   "metadata": {},
   "source": [
    "How many of respondents responded to the natural hair question?"
   ]
  },
  {
   "cell_type": "code",
   "execution_count": null,
   "metadata": {},
   "outputs": [],
   "source": [
    "data['freq_nat_har'].count()"
   ]
  },
  {
   "cell_type": "code",
   "execution_count": null,
   "metadata": {},
   "outputs": [],
   "source": [
    "data.groupby(['gender','freq_nat_har']).size().rename('count').reset_index()"
   ]
  },
  {
   "cell_type": "markdown",
   "metadata": {},
   "source": [
    "4 anomalies who should have not answered"
   ]
  },
  {
   "cell_type": "code",
   "execution_count": null,
   "metadata": {},
   "outputs": [],
   "source": [
    "data.groupby(['age','gender','freq_nat_har']).size().rename('count').reset_index(-1)"
   ]
  },
  {
   "cell_type": "markdown",
   "metadata": {},
   "source": [
    "```Notes: Drop the male respondents to this answer```"
   ]
  },
  {
   "cell_type": "markdown",
   "metadata": {},
   "source": [
    "Where where our partipants born?"
   ]
  },
  {
   "cell_type": "code",
   "execution_count": null,
   "metadata": {},
   "outputs": [],
   "source": [
    "data['pob'].value_counts()"
   ]
  },
  {
   "cell_type": "code",
   "execution_count": null,
   "metadata": {},
   "outputs": [],
   "source": [
    "data.groupby(['pob','age']).size().rename('count').reset_index(-1)"
   ]
  },
  {
   "cell_type": "code",
   "execution_count": null,
   "metadata": {},
   "outputs": [],
   "source": [
    "data.groupby(['pob','age','gender']).size().rename('count').reset_index(-1)"
   ]
  },
  {
   "cell_type": "code",
   "execution_count": null,
   "metadata": {},
   "outputs": [],
   "source": [
    "data.groupby(['age','gender','freq_nat_har']).size().rename('count').reset_index()"
   ]
  },
  {
   "cell_type": "code",
   "execution_count": null,
   "metadata": {},
   "outputs": [],
   "source": [
    "data['pob'].max()"
   ]
  },
  {
   "cell_type": "code",
   "execution_count": null,
   "metadata": {},
   "outputs": [],
   "source": [
    "data['style'].value_counts().reset_index()"
   ]
  },
  {
   "cell_type": "code",
   "execution_count": null,
   "metadata": {},
   "outputs": [],
   "source": [
    "data.groupby(['style','pob','age', 'gender']).size().reset_index()"
   ]
  },
  {
   "cell_type": "code",
   "execution_count": null,
   "metadata": {},
   "outputs": [],
   "source": [
    "data.groupby(['freq_buy_IKwear', 'age']).size().reset_index()"
   ]
  },
  {
   "cell_type": "code",
   "execution_count": null,
   "metadata": {},
   "outputs": [],
   "source": []
  }
 ],
 "metadata": {
  "kernelspec": {
   "display_name": "Python 3",
   "language": "python",
   "name": "python3"
  },
  "language_info": {
   "codemirror_mode": {
    "name": "ipython",
    "version": 3
   },
   "file_extension": ".py",
   "mimetype": "text/x-python",
   "name": "python",
   "nbconvert_exporter": "python",
   "pygments_lexer": "ipython3",
   "version": "3.7.2"
  }
 },
 "nbformat": 4,
 "nbformat_minor": 2
}
